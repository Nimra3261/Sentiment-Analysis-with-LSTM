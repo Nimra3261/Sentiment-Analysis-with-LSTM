{
 "cells": [
  {
   "cell_type": "code",
   "execution_count": 1,
   "id": "0fbb910c",
   "metadata": {},
   "outputs": [
    {
     "name": "stderr",
     "output_type": "stream",
     "text": [
      "[nltk_data] Downloading package stopwords to C:\\Users\\Zain\n",
      "[nltk_data]     Khalid\\AppData\\Roaming\\nltk_data...\n",
      "[nltk_data]   Package stopwords is already up-to-date!\n"
     ]
    },
    {
     "data": {
      "text/plain": [
       "True"
      ]
     },
     "execution_count": 1,
     "metadata": {},
     "output_type": "execute_result"
    }
   ],
   "source": [
    "import numpy as np\n",
    "import pandas as pd\n",
    "import tensorflow as tf\n",
    "from tensorflow.keras.preprocessing.text import Tokenizer\n",
    "from tensorflow.keras.preprocessing.sequence import pad_sequences\n",
    "from tensorflow.keras.models import Sequential\n",
    "from tensorflow.keras.layers import Embedding, LSTM, Dense, Dropout\n",
    "from sklearn.model_selection import train_test_split\n",
    "from sklearn.metrics import classification_report\n",
    "import nltk\n",
    "from nltk.corpus import stopwords\n",
    "import re\n",
    "\n",
    "nltk.download('stopwords')\n"
   ]
  },
  {
   "cell_type": "code",
   "execution_count": 34,
   "id": "e3309fff",
   "metadata": {},
   "outputs": [
    {
     "name": "stdout",
     "output_type": "stream",
     "text": [
      "   id  label                                              tweet\n",
      "0   1      0   @user when a father is dysfunctional and is s...\n",
      "1   2      0  @user @user thanks for #lyft credit i can't us...\n",
      "2   3      0                                bihday your majesty\n",
      "3   4      0  #model   i love u take with u all the time in ...\n",
      "4   5      0             factsguide: society now    #motivation\n"
     ]
    }
   ],
   "source": [
    "# Load your dataset\n",
    "data = pd.read_csv('twitter.csv')\n",
    "\n",
    "# Display the first few rows to understand the structure\n",
    "print(data.head())\n"
   ]
  },
  {
   "cell_type": "code",
   "execution_count": 35,
   "id": "d22ccd38",
   "metadata": {},
   "outputs": [
    {
     "name": "stdout",
     "output_type": "stream",
     "text": [
      "Unique labels in dataset: [0 1]\n"
     ]
    }
   ],
   "source": [
    "# Check for NaN values and drop them\n",
    "data.dropna(subset=['label', 'tweet'], inplace=True)\n",
    "\n",
    "# Ensure labels are integers\n",
    "data['label'] = data['label'].astype(int)\n",
    "\n",
    "# Display unique labels\n",
    "print(\"Unique labels in dataset:\", data['label'].unique())\n"
   ]
  },
  {
   "cell_type": "code",
   "execution_count": 36,
   "id": "33f58b24",
   "metadata": {},
   "outputs": [
    {
     "name": "stdout",
     "output_type": "stream",
     "text": [
      "Number of sequences: 31962\n"
     ]
    }
   ],
   "source": [
    "# Tokenization\n",
    "tokenizer = Tokenizer(num_words=5000)\n",
    "tokenizer.fit_on_texts(texts)\n",
    "sequences = tokenizer.texts_to_sequences(texts)\n",
    "\n",
    "# Check the sequences\n",
    "print(\"Number of sequences:\", len(sequences))\n"
   ]
  },
  {
   "cell_type": "code",
   "execution_count": 37,
   "id": "eca6f282",
   "metadata": {},
   "outputs": [
    {
     "name": "stdout",
     "output_type": "stream",
     "text": [
      "Shape of padded sequences: (31962, 39)\n"
     ]
    }
   ],
   "source": [
    "# Padding sequences\n",
    "max_length = max(len(s) for s in sequences)\n",
    "padded_sequences = pad_sequences(sequences, maxlen=max_length)\n",
    "\n",
    "# Check the shape of padded sequences\n",
    "print(\"Shape of padded sequences:\", padded_sequences.shape)\n"
   ]
  },
  {
   "cell_type": "code",
   "execution_count": 38,
   "id": "144bde5b",
   "metadata": {},
   "outputs": [
    {
     "name": "stdout",
     "output_type": "stream",
     "text": [
      "Training set shape: (25569, 39) (25569,)\n",
      "Test set shape: (6393, 39) (6393,)\n"
     ]
    }
   ],
   "source": [
    "# Split the dataset into training and test sets\n",
    "X_train, X_test, y_train, y_test = train_test_split(padded_sequences, labels, test_size=0.2, random_state=42)\n",
    "\n",
    "print(\"Training set shape:\", X_train.shape, y_train.shape)\n",
    "print(\"Test set shape:\", X_test.shape, y_test.shape)\n"
   ]
  },
  {
   "cell_type": "code",
   "execution_count": 39,
   "id": "c917dc88",
   "metadata": {},
   "outputs": [],
   "source": [
    "# Build the LSTM model\n",
    "model = Sequential()\n",
    "model.add(Embedding(input_dim=5000, output_dim=100, input_length=max_length))\n",
    "model.add(SpatialDropout1D(0.2))\n",
    "model.add(LSTM(100, dropout=0.2, recurrent_dropout=0.2))\n",
    "model.add(Dense(len(set(labels)), activation='softmax'))  # Use softmax for multi-class classification\n"
   ]
  },
  {
   "cell_type": "code",
   "execution_count": 40,
   "id": "ef7f88c8",
   "metadata": {},
   "outputs": [],
   "source": [
    "# Compile the model\n",
    "model.compile(loss='sparse_categorical_crossentropy', optimizer='adam', metrics=['accuracy'])\n"
   ]
  },
  {
   "cell_type": "code",
   "execution_count": 41,
   "id": "41077233",
   "metadata": {},
   "outputs": [
    {
     "name": "stdout",
     "output_type": "stream",
     "text": [
      "Epoch 1/5\n",
      "400/400 [==============================] - 103s 238ms/step - loss: 0.1749 - accuracy: 0.9448 - val_loss: 0.1206 - val_accuracy: 0.9567\n",
      "Epoch 2/5\n",
      "400/400 [==============================] - 75s 187ms/step - loss: 0.0919 - accuracy: 0.9670 - val_loss: 0.1191 - val_accuracy: 0.9589\n",
      "Epoch 3/5\n",
      "400/400 [==============================] - 65s 163ms/step - loss: 0.0702 - accuracy: 0.9749 - val_loss: 0.1352 - val_accuracy: 0.9587\n",
      "Epoch 4/5\n",
      "400/400 [==============================] - 73s 183ms/step - loss: 0.0519 - accuracy: 0.9824 - val_loss: 0.1451 - val_accuracy: 0.9581\n",
      "Epoch 5/5\n",
      "400/400 [==============================] - 65s 161ms/step - loss: 0.0403 - accuracy: 0.9863 - val_loss: 0.1713 - val_accuracy: 0.9520\n"
     ]
    }
   ],
   "source": [
    "# Train the model\n",
    "history = model.fit(X_train, y_train, epochs=5, batch_size=64, validation_data=(X_test, y_test))\n"
   ]
  },
  {
   "cell_type": "code",
   "execution_count": 42,
   "id": "530fe831",
   "metadata": {},
   "outputs": [
    {
     "name": "stdout",
     "output_type": "stream",
     "text": [
      "200/200 [==============================] - 4s 20ms/step - loss: 0.1713 - accuracy: 0.9520\n",
      "Test Loss: 0.17126740515232086\n",
      "Test Accuracy: 0.9519787430763245\n"
     ]
    }
   ],
   "source": [
    "# Evaluate the model\n",
    "loss, accuracy = model.evaluate(X_test, y_test)\n",
    "print(f\"Test Loss: {loss}\")\n",
    "print(f\"Test Accuracy: {accuracy}\")\n"
   ]
  },
  {
   "cell_type": "code",
   "execution_count": 43,
   "id": "412cd0b8",
   "metadata": {},
   "outputs": [
    {
     "name": "stderr",
     "output_type": "stream",
     "text": [
      "C:\\Users\\Zain Khalid\\anaconda3\\lib\\site-packages\\keras\\src\\engine\\training.py:3079: UserWarning: You are saving your model as an HDF5 file via `model.save()`. This file format is considered legacy. We recommend using instead the native Keras format, e.g. `model.save('my_model.keras')`.\n",
      "  saving_api.save_model(\n"
     ]
    }
   ],
   "source": [
    "#Save the model\n",
    "model.save('sentiment_analysis_model.h5')\n"
   ]
  },
  {
   "cell_type": "code",
   "execution_count": 44,
   "id": "cd4afc5d",
   "metadata": {},
   "outputs": [],
   "source": [
    "from tensorflow.keras.models import load_model\n",
    "\n",
    "# Load the model\n",
    "model = load_model('sentiment_analysis_model.h5')\n"
   ]
  },
  {
   "cell_type": "code",
   "execution_count": 45,
   "id": "35c99f36",
   "metadata": {},
   "outputs": [],
   "source": [
    "# Example tweets for prediction\n",
    "new_tweets = [\n",
    "    \"This is the best product I've ever used!\",\n",
    "    \"I am really disappointed with the service.\",\n",
    "    \"It's okay, nothing special.\"\n",
    "]\n",
    "\n",
    "# Tokenization\n",
    "new_sequences = tokenizer.texts_to_sequences(new_tweets)\n",
    "\n",
    "# Padding sequences\n",
    "new_padded_sequences = pad_sequences(new_sequences, maxlen=max_length)\n"
   ]
  },
  {
   "cell_type": "code",
   "execution_count": 46,
   "id": "9e87790b",
   "metadata": {},
   "outputs": [
    {
     "name": "stdout",
     "output_type": "stream",
     "text": [
      "1/1 [==============================] - 1s 503ms/step\n",
      "Tweet: \"This is the best product I've ever used!\" => Predicted Class: 0\n",
      "Tweet: \"I am really disappointed with the service.\" => Predicted Class: 0\n",
      "Tweet: \"It's okay, nothing special.\" => Predicted Class: 0\n"
     ]
    }
   ],
   "source": [
    "# Make predictions\n",
    "predictions = model.predict(new_padded_sequences)\n",
    "\n",
    "# Get the predicted class for each tweet\n",
    "predicted_classes = np.argmax(predictions, axis=1)\n",
    "\n",
    "# Print predictions\n",
    "for tweet, predicted_class in zip(new_tweets, predicted_classes):\n",
    "    print(f'Tweet: \"{tweet}\" => Predicted Class: {predicted_class}')\n"
   ]
  },
  {
   "cell_type": "code",
   "execution_count": null,
   "id": "ad147b92",
   "metadata": {},
   "outputs": [],
   "source": []
  }
 ],
 "metadata": {
  "kernelspec": {
   "display_name": "Python 3 (ipykernel)",
   "language": "python",
   "name": "python3"
  },
  "language_info": {
   "codemirror_mode": {
    "name": "ipython",
    "version": 3
   },
   "file_extension": ".py",
   "mimetype": "text/x-python",
   "name": "python",
   "nbconvert_exporter": "python",
   "pygments_lexer": "ipython3",
   "version": "3.9.12"
  }
 },
 "nbformat": 4,
 "nbformat_minor": 5
}
